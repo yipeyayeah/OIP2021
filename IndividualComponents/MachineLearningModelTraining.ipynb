{
  "nbformat": 4,
  "nbformat_minor": 0,
  "metadata": {
    "colab": {
      "name": "The Holy Notebook for ML.ipynb",
      "provenance": [],
      "collapsed_sections": []
    },
    "kernelspec": {
      "name": "python3",
      "display_name": "Python 3"
    },
    "language_info": {
      "name": "python"
    },
    "accelerator": "GPU"
  },
  "cells": [
    {
      "cell_type": "markdown",
      "metadata": {
        "id": "9oQoKV_mX-EI"
      },
      "source": [
        "## Step 1: Install Prerequisites Libraries for the Runtime"
      ]
    },
    {
      "cell_type": "code",
      "metadata": {
        "colab": {
          "base_uri": "https://localhost:8080/"
        },
        "id": "ROA7b3-yXTQ1",
        "outputId": "9871ca8a-e6a0-446e-f386-0da50493499b"
      },
      "source": [
        "!pip install -q tflite-model-maker"
      ],
      "execution_count": 1,
      "outputs": [
        {
          "output_type": "stream",
          "name": "stdout",
          "text": [
            "\u001b[K     |████████████████████████████████| 591 kB 5.2 MB/s \n",
            "\u001b[K     |████████████████████████████████| 103 kB 49.1 MB/s \n",
            "\u001b[K     |████████████████████████████████| 6.3 MB 25.5 MB/s \n",
            "\u001b[K     |████████████████████████████████| 1.1 MB 40.9 MB/s \n",
            "\u001b[K     |████████████████████████████████| 1.1 MB 37.2 MB/s \n",
            "\u001b[K     |████████████████████████████████| 636 kB 44.3 MB/s \n",
            "\u001b[K     |████████████████████████████████| 64 kB 3.1 MB/s \n",
            "\u001b[K     |████████████████████████████████| 840 kB 42.4 MB/s \n",
            "\u001b[K     |████████████████████████████████| 87 kB 6.3 MB/s \n",
            "\u001b[K     |████████████████████████████████| 1.2 MB 39.2 MB/s \n",
            "\u001b[K     |████████████████████████████████| 211 kB 48.2 MB/s \n",
            "\u001b[K     |████████████████████████████████| 120 kB 46.9 MB/s \n",
            "\u001b[K     |████████████████████████████████| 37.1 MB 46 kB/s \n",
            "\u001b[K     |████████████████████████████████| 352 kB 47.0 MB/s \n",
            "\u001b[K     |████████████████████████████████| 99 kB 8.4 MB/s \n",
            "\u001b[K     |████████████████████████████████| 200 kB 46.0 MB/s \n",
            "\u001b[?25h  Building wheel for fire (setup.py) ... \u001b[?25l\u001b[?25hdone\n",
            "  Building wheel for py-cpuinfo (setup.py) ... \u001b[?25l\u001b[?25hdone\n"
          ]
        }
      ]
    },
    {
      "cell_type": "markdown",
      "metadata": {
        "id": "xURK6wViYPzt"
      },
      "source": [
        "## Step 2: Import required libraries"
      ]
    },
    {
      "cell_type": "code",
      "metadata": {
        "id": "P7fZI8oLXVQ8"
      },
      "source": [
        "import os\n",
        "\n",
        "import numpy as np\n",
        "\n",
        "import tensorflow as tf\n",
        "assert tf.__version__.startswith('2')\n",
        "\n",
        "from tflite_model_maker import model_spec\n",
        "from tflite_model_maker import image_classifier\n",
        "from tflite_model_maker.config import ExportFormat\n",
        "from tflite_model_maker.config import QuantizationConfig\n",
        "from tflite_model_maker.image_classifier import DataLoader\n",
        "\n",
        "import matplotlib.pyplot as plt"
      ],
      "execution_count": 2,
      "outputs": []
    },
    {
      "cell_type": "markdown",
      "metadata": {
        "id": "WRIle7v8YqHi"
      },
      "source": [
        "## Mount drive to Google Drive and unzip the images. Set file path"
      ]
    },
    {
      "cell_type": "code",
      "metadata": {
        "colab": {
          "base_uri": "https://localhost:8080/"
        },
        "id": "aIMZObchV_y6",
        "outputId": "df9c44ef-5910-4164-997e-9c3ec89bec4b"
      },
      "source": [
        "from google.colab import drive\n",
        "drive.mount('/content/drive')"
      ],
      "execution_count": 3,
      "outputs": [
        {
          "output_type": "stream",
          "name": "stdout",
          "text": [
            "Drive already mounted at /content/drive; to attempt to forcibly remount, call drive.mount(\"/content/drive\", force_remount=True).\n"
          ]
        }
      ]
    },
    {
      "cell_type": "code",
      "metadata": {
        "id": "aEnTG8KRWE99"
      },
      "source": [
        "# !unzip /content/drive/MyDrive/dataset.zip -d /content/drive/MyDrive/dataset"
      ],
      "execution_count": 4,
      "outputs": []
    },
    {
      "cell_type": "code",
      "metadata": {
        "id": "GD1VymS0W8Ow"
      },
      "source": [
        "image_path = '/content/drive/MyDrive/dataset/dataset'"
      ],
      "execution_count": 5,
      "outputs": []
    },
    {
      "cell_type": "markdown",
      "metadata": {
        "id": "y8B01-oSalG8"
      },
      "source": [
        "## Split the dataset into training data and testing data"
      ]
    },
    {
      "cell_type": "code",
      "metadata": {
        "colab": {
          "base_uri": "https://localhost:8080/"
        },
        "id": "NxWLSY5pXVaS",
        "outputId": "c8c76b68-ad79-4f33-cbdc-54a27ee6d6be"
      },
      "source": [
        "data = DataLoader.from_folder(image_path)\n",
        "train_data, rest_data = data.split(0.8)\n",
        "validation_data, test_data = rest_data.split(0.5)"
      ],
      "execution_count": 6,
      "outputs": [
        {
          "output_type": "stream",
          "name": "stdout",
          "text": [
            "INFO:tensorflow:Load image with size: 400, num_label: 4, labels: Clean, Dirty, Empty, Wet.\n"
          ]
        }
      ]
    },
    {
      "cell_type": "markdown",
      "metadata": {
        "id": "INkQHnUwdDpV"
      },
      "source": [
        "##  Customize the EfficientNet model"
      ]
    },
    {
      "cell_type": "code",
      "metadata": {
        "colab": {
          "base_uri": "https://localhost:8080/"
        },
        "id": "Hf4I1sQyXOoq",
        "outputId": "c735a917-2bc3-4358-b109-a3dac94c254e"
      },
      "source": [
        "efficient_model = image_classifier.create(train_data, batch_size=16, epochs=10, validation_data=validation_data)"
      ],
      "execution_count": 7,
      "outputs": [
        {
          "output_type": "stream",
          "name": "stdout",
          "text": [
            "INFO:tensorflow:Retraining the models...\n",
            "Model: \"sequential\"\n",
            "_________________________________________________________________\n",
            "Layer (type)                 Output Shape              Param #   \n",
            "=================================================================\n",
            "hub_keras_layer_v1v2 (HubKer (None, 1280)              3413024   \n",
            "_________________________________________________________________\n",
            "dropout (Dropout)            (None, 1280)              0         \n",
            "_________________________________________________________________\n",
            "dense (Dense)                (None, 4)                 5124      \n",
            "=================================================================\n",
            "Total params: 3,418,148\n",
            "Trainable params: 5,124\n",
            "Non-trainable params: 3,413,024\n",
            "_________________________________________________________________\n",
            "None\n"
          ]
        },
        {
          "output_type": "stream",
          "name": "stderr",
          "text": [
            "/usr/local/lib/python3.7/dist-packages/keras/optimizer_v2/optimizer_v2.py:356: UserWarning: The `lr` argument is deprecated, use `learning_rate` instead.\n",
            "  \"The `lr` argument is deprecated, use `learning_rate` instead.\")\n"
          ]
        },
        {
          "output_type": "stream",
          "name": "stdout",
          "text": [
            "Epoch 1/10\n",
            "20/20 [==============================] - 118s 4s/step - loss: 0.8866 - accuracy: 0.7219 - val_loss: 0.5113 - val_accuracy: 1.0000\n",
            "Epoch 2/10\n",
            "20/20 [==============================] - 59s 3s/step - loss: 0.4603 - accuracy: 0.9969 - val_loss: 0.4203 - val_accuracy: 1.0000\n",
            "Epoch 3/10\n",
            "20/20 [==============================] - 62s 3s/step - loss: 0.3971 - accuracy: 1.0000 - val_loss: 0.3721 - val_accuracy: 1.0000\n",
            "Epoch 4/10\n",
            "20/20 [==============================] - 53s 3s/step - loss: 0.3818 - accuracy: 1.0000 - val_loss: 0.3650 - val_accuracy: 1.0000\n",
            "Epoch 5/10\n",
            "20/20 [==============================] - 55s 3s/step - loss: 0.3772 - accuracy: 1.0000 - val_loss: 0.3627 - val_accuracy: 1.0000\n",
            "Epoch 6/10\n",
            "20/20 [==============================] - 56s 3s/step - loss: 0.3764 - accuracy: 1.0000 - val_loss: 0.3627 - val_accuracy: 1.0000\n",
            "Epoch 7/10\n",
            "20/20 [==============================] - 56s 3s/step - loss: 0.3771 - accuracy: 1.0000 - val_loss: 0.3602 - val_accuracy: 1.0000\n",
            "Epoch 8/10\n",
            "20/20 [==============================] - 57s 3s/step - loss: 0.3727 - accuracy: 1.0000 - val_loss: 0.3598 - val_accuracy: 1.0000\n",
            "Epoch 9/10\n",
            "20/20 [==============================] - 54s 3s/step - loss: 0.3717 - accuracy: 1.0000 - val_loss: 0.3598 - val_accuracy: 1.0000\n",
            "Epoch 10/10\n",
            "20/20 [==============================] - 55s 3s/step - loss: 0.3688 - accuracy: 1.0000 - val_loss: 0.3590 - val_accuracy: 1.0000\n"
          ]
        }
      ]
    },
    {
      "cell_type": "code",
      "metadata": {
        "colab": {
          "base_uri": "https://localhost:8080/"
        },
        "id": "Yx-BFDejjdrX",
        "outputId": "37f98e37-ff99-4072-812b-1178509919b1"
      },
      "source": [
        "efficient_model.summary()"
      ],
      "execution_count": 8,
      "outputs": [
        {
          "output_type": "stream",
          "name": "stdout",
          "text": [
            "Model: \"sequential\"\n",
            "_________________________________________________________________\n",
            "Layer (type)                 Output Shape              Param #   \n",
            "=================================================================\n",
            "hub_keras_layer_v1v2 (HubKer (None, 1280)              3413024   \n",
            "_________________________________________________________________\n",
            "dropout (Dropout)            (None, 1280)              0         \n",
            "_________________________________________________________________\n",
            "dense (Dense)                (None, 4)                 5124      \n",
            "=================================================================\n",
            "Total params: 3,418,148\n",
            "Trainable params: 5,124\n",
            "Non-trainable params: 3,413,024\n",
            "_________________________________________________________________\n"
          ]
        }
      ]
    },
    {
      "cell_type": "markdown",
      "metadata": {
        "id": "FprahqXjnThk"
      },
      "source": [
        "## Evaluate the EfficientNet model"
      ]
    },
    {
      "cell_type": "code",
      "metadata": {
        "colab": {
          "base_uri": "https://localhost:8080/"
        },
        "id": "w-g6pHh9X5q6",
        "outputId": "bb3c4841-2e55-4699-f5ca-0947b3d914c7"
      },
      "source": [
        "loss, accuracy = efficient_model.evaluate(test_data)"
      ],
      "execution_count": 9,
      "outputs": [
        {
          "output_type": "stream",
          "name": "stdout",
          "text": [
            "2/2 [==============================] - 23s 759ms/step - loss: 0.3574 - accuracy: 1.0000\n"
          ]
        }
      ]
    },
    {
      "cell_type": "code",
      "metadata": {
        "colab": {
          "base_uri": "https://localhost:8080/",
          "height": 573
        },
        "id": "eUUoWoBnX5w_",
        "outputId": "7cae5751-a97e-480f-904a-3d95ce915abf"
      },
      "source": [
        "# Plot the train and validation accuracies\n",
        "plt.title('EfficientNet Lite Model accuracy')\n",
        "plt.ylabel('accuracy')\n",
        "plt.xlabel('epoch')\n",
        "plt.plot(efficient_model.history.history['accuracy'], label='train acc')\n",
        "plt.plot(efficient_model.history.history['val_accuracy'], label='val acc')\n",
        "plt.legend()\n",
        "plt.show()\n",
        "\n",
        "# Plot the train and validation loss\n",
        "plt.title('EfficientNet Lite Model loss')\n",
        "plt.ylabel('loss')\n",
        "plt.xlabel('epoch')\n",
        "plt.plot(efficient_model.history.history['loss'], label='train loss')\n",
        "plt.plot(efficient_model.history.history['val_loss'], label='val loss')\n",
        "plt.legend()\n",
        "plt.show()"
      ],
      "execution_count": 10,
      "outputs": [
        {
          "output_type": "display_data",
          "data": {
            "image/png": "[encoded data removed]",
            "text/plain": [
              "<Figure size 432x288 with 1 Axes>"
            ]
          },
          "metadata": {
            "needs_background": "light"
          }
        },
        {
          "output_type": "display_data",
          "data": {
            "image/png": "[encoded data removed]",
            "text/plain": [
              "<Figure size 432x288 with 1 Axes>"
            ]
          },
          "metadata": {
            "needs_background": "light"
          }
        }
      ]
    },
    {
      "cell_type": "markdown",
      "metadata": {
        "id": "qsvinXcQngOL"
      },
      "source": [
        "## Export the EfficientNet model"
      ]
    },
    {
      "cell_type": "code",
      "metadata": {
        "colab": {
          "base_uri": "https://localhost:8080/"
        },
        "id": "645z8kJyX5tk",
        "outputId": "d9711f91-0a6e-48e0-f2a8-0517f3d69fd4"
      },
      "source": [
        "efficient_model.export(export_dir='.', tflite_filename='efficientnet_lite0.tflite')"
      ],
      "execution_count": 11,
      "outputs": [
        {
          "output_type": "stream",
          "name": "stdout",
          "text": [
            "INFO:tensorflow:Assets written to: /tmp/tmp2jzt56xj/assets\n"
          ]
        },
        {
          "output_type": "stream",
          "name": "stderr",
          "text": [
            "INFO:tensorflow:Assets written to: /tmp/tmp2jzt56xj/assets\n",
            "WARNING:absl:For model inputs containing unsupported operations which cannot be quantized, the `inference_input_type` attribute will default to the original type.\n"
          ]
        },
        {
          "output_type": "stream",
          "name": "stdout",
          "text": [
            "INFO:tensorflow:Label file is inside the TFLite model with metadata.\n"
          ]
        },
        {
          "output_type": "stream",
          "name": "stderr",
          "text": [
            "INFO:tensorflow:Label file is inside the TFLite model with metadata.\n"
          ]
        },
        {
          "output_type": "stream",
          "name": "stdout",
          "text": [
            "INFO:tensorflow:Saving labels in /tmp/tmpnzymghen/labels.txt\n"
          ]
        },
        {
          "output_type": "stream",
          "name": "stderr",
          "text": [
            "INFO:tensorflow:Saving labels in /tmp/tmpnzymghen/labels.txt\n"
          ]
        },
        {
          "output_type": "stream",
          "name": "stdout",
          "text": [
            "INFO:tensorflow:TensorFlow Lite model exported successfully: ./efficientnet_lite0.tflite\n"
          ]
        },
        {
          "output_type": "stream",
          "name": "stderr",
          "text": [
            "INFO:tensorflow:TensorFlow Lite model exported successfully: ./efficientnet_lite0.tflite\n"
          ]
        }
      ]
    },
    {
      "cell_type": "markdown",
      "metadata": {
        "id": "vAIK_davnm2C"
      },
      "source": [
        "##  Customize the MobileNet model"
      ]
    },
    {
      "cell_type": "code",
      "metadata": {
        "colab": {
          "base_uri": "https://localhost:8080/"
        },
        "id": "6UTxGR2NX5zW",
        "outputId": "dd7cf1d3-b377-434c-bd1a-de8ef5bd887e"
      },
      "source": [
        "mobilenet_model = image_classifier.create(train_data, model_spec=model_spec.get('mobilenet_v2'), validation_data=validation_data, batch_size=16, epochs=10)"
      ],
      "execution_count": 12,
      "outputs": [
        {
          "output_type": "stream",
          "name": "stdout",
          "text": [
            "INFO:tensorflow:Retraining the models...\n"
          ]
        },
        {
          "output_type": "stream",
          "name": "stderr",
          "text": [
            "INFO:tensorflow:Retraining the models...\n"
          ]
        },
        {
          "output_type": "stream",
          "name": "stdout",
          "text": [
            "Model: \"sequential_1\"\n",
            "_________________________________________________________________\n",
            "Layer (type)                 Output Shape              Param #   \n",
            "=================================================================\n",
            "hub_keras_layer_v1v2_1 (HubK (None, 1280)              2257984   \n",
            "_________________________________________________________________\n",
            "dropout_1 (Dropout)          (None, 1280)              0         \n",
            "_________________________________________________________________\n",
            "dense_1 (Dense)              (None, 4)                 5124      \n",
            "=================================================================\n",
            "Total params: 2,263,108\n",
            "Trainable params: 5,124\n",
            "Non-trainable params: 2,257,984\n",
            "_________________________________________________________________\n",
            "None\n",
            "Epoch 1/10\n"
          ]
        },
        {
          "output_type": "stream",
          "name": "stderr",
          "text": [
            "/usr/local/lib/python3.7/dist-packages/keras/optimizer_v2/optimizer_v2.py:356: UserWarning: The `lr` argument is deprecated, use `learning_rate` instead.\n",
            "  \"The `lr` argument is deprecated, use `learning_rate` instead.\")\n"
          ]
        },
        {
          "output_type": "stream",
          "name": "stdout",
          "text": [
            "20/20 [==============================] - 68s 3s/step - loss: 0.7096 - accuracy: 0.8219 - val_loss: 0.4945 - val_accuracy: 1.0000\n",
            "Epoch 2/10\n",
            "20/20 [==============================] - 59s 3s/step - loss: 0.4549 - accuracy: 0.9875 - val_loss: 0.4037 - val_accuracy: 1.0000\n",
            "Epoch 3/10\n",
            "20/20 [==============================] - 61s 3s/step - loss: 0.4060 - accuracy: 1.0000 - val_loss: 0.3770 - val_accuracy: 1.0000\n",
            "Epoch 4/10\n",
            "20/20 [==============================] - 53s 3s/step - loss: 0.3921 - accuracy: 1.0000 - val_loss: 0.3677 - val_accuracy: 1.0000\n",
            "Epoch 5/10\n",
            "20/20 [==============================] - 53s 3s/step - loss: 0.3871 - accuracy: 1.0000 - val_loss: 0.3686 - val_accuracy: 1.0000\n",
            "Epoch 6/10\n",
            "20/20 [==============================] - 54s 3s/step - loss: 0.3826 - accuracy: 1.0000 - val_loss: 0.3645 - val_accuracy: 1.0000\n",
            "Epoch 7/10\n",
            "20/20 [==============================] - 55s 3s/step - loss: 0.3778 - accuracy: 1.0000 - val_loss: 0.3631 - val_accuracy: 1.0000\n",
            "Epoch 8/10\n",
            "20/20 [==============================] - 55s 3s/step - loss: 0.3776 - accuracy: 1.0000 - val_loss: 0.3614 - val_accuracy: 1.0000\n",
            "Epoch 9/10\n",
            "20/20 [==============================] - 54s 3s/step - loss: 0.3747 - accuracy: 1.0000 - val_loss: 0.3607 - val_accuracy: 1.0000\n",
            "Epoch 10/10\n",
            "20/20 [==============================] - 54s 3s/step - loss: 0.3791 - accuracy: 1.0000 - val_loss: 0.3622 - val_accuracy: 1.0000\n"
          ]
        }
      ]
    },
    {
      "cell_type": "code",
      "metadata": {
        "colab": {
          "base_uri": "https://localhost:8080/"
        },
        "id": "KkJnloKXmwQH",
        "outputId": "edb44666-aa11-41d8-a678-276cb5593e2e"
      },
      "source": [
        "mobilenet_model.summary()"
      ],
      "execution_count": 13,
      "outputs": [
        {
          "output_type": "stream",
          "name": "stdout",
          "text": [
            "Model: \"sequential_1\"\n",
            "_________________________________________________________________\n",
            "Layer (type)                 Output Shape              Param #   \n",
            "=================================================================\n",
            "hub_keras_layer_v1v2_1 (HubK (None, 1280)              2257984   \n",
            "_________________________________________________________________\n",
            "dropout_1 (Dropout)          (None, 1280)              0         \n",
            "_________________________________________________________________\n",
            "dense_1 (Dense)              (None, 4)                 5124      \n",
            "=================================================================\n",
            "Total params: 2,263,108\n",
            "Trainable params: 5,124\n",
            "Non-trainable params: 2,257,984\n",
            "_________________________________________________________________\n"
          ]
        }
      ]
    },
    {
      "cell_type": "markdown",
      "metadata": {
        "id": "F2w22mCOn_N8"
      },
      "source": [
        "## Evaluate the MobileNet model"
      ]
    },
    {
      "cell_type": "code",
      "metadata": {
        "colab": {
          "base_uri": "https://localhost:8080/"
        },
        "id": "V2mTixlcnvHo",
        "outputId": "324f3b56-32ef-4362-fe17-52c9e17882a0"
      },
      "source": [
        "loss, accuracy = mobilenet_model.evaluate(test_data)"
      ],
      "execution_count": 14,
      "outputs": [
        {
          "output_type": "stream",
          "name": "stdout",
          "text": [
            "2/2 [==============================] - 18s 268ms/step - loss: 0.3644 - accuracy: 1.0000\n"
          ]
        }
      ]
    },
    {
      "cell_type": "code",
      "metadata": {
        "colab": {
          "base_uri": "https://localhost:8080/",
          "height": 573
        },
        "id": "-XVoEYwHnvKL",
        "outputId": "cee11fb7-55ac-474e-a5a9-024aea3b8f19"
      },
      "source": [
        "# Plot the train and validation accuracies\n",
        "plt.title('MobileNet Lite Model accuracy')\n",
        "plt.ylabel('accuracy')\n",
        "plt.xlabel('epoch')\n",
        "plt.plot(mobilenet_model.history.history['accuracy'], label='train acc')\n",
        "plt.plot(mobilenet_model.history.history['val_accuracy'], label='val acc')\n",
        "plt.legend()\n",
        "plt.show()\n",
        "\n",
        "# Plot the train and validation loss\n",
        "plt.title('MobileNet Lite Model loss')\n",
        "plt.ylabel('loss')\n",
        "plt.xlabel('epoch')\n",
        "plt.plot(mobilenet_model.history.history['loss'], label='train loss')\n",
        "plt.plot(mobilenet_model.history.history['val_loss'], label='val loss')\n",
        "plt.legend()\n",
        "plt.show()"
      ],
      "execution_count": 15,
      "outputs": [
        {
          "output_type": "display_data",
          "data": {
            "image/png": "[encoded data removed]",
            "text/plain": [
              "<Figure size 432x288 with 1 Axes>"
            ]
          },
          "metadata": {
            "needs_background": "light"
          }
        },
        {
          "output_type": "display_data",
          "data": {
            "image/png": "[encoded data removed]",
            "text/plain": [
              "<Figure size 432x288 with 1 Axes>"
            ]
          },
          "metadata": {
            "needs_background": "light"
          }
        }
      ]
    },
    {
      "cell_type": "markdown",
      "metadata": {
        "id": "fAAI1mGhoHy3"
      },
      "source": [
        "## Export the MobileNet model"
      ]
    },
    {
      "cell_type": "code",
      "metadata": {
        "colab": {
          "base_uri": "https://localhost:8080/"
        },
        "id": "t6LotKo9nvM3",
        "outputId": "50edd1d2-3914-4c75-f166-81fc7dea9f0c"
      },
      "source": [
        "mobilenet_model.export(export_dir='.', tflite_filename='mobilenet_v2.tflite')"
      ],
      "execution_count": 16,
      "outputs": [
        {
          "output_type": "stream",
          "name": "stdout",
          "text": [
            "INFO:tensorflow:Assets written to: /tmp/tmpb_cabgtc/assets\n"
          ]
        },
        {
          "output_type": "stream",
          "name": "stderr",
          "text": [
            "INFO:tensorflow:Assets written to: /tmp/tmpb_cabgtc/assets\n",
            "WARNING:absl:For model inputs containing unsupported operations which cannot be quantized, the `inference_input_type` attribute will default to the original type.\n"
          ]
        },
        {
          "output_type": "stream",
          "name": "stdout",
          "text": [
            "INFO:tensorflow:Label file is inside the TFLite model with metadata.\n"
          ]
        },
        {
          "output_type": "stream",
          "name": "stderr",
          "text": [
            "INFO:tensorflow:Label file is inside the TFLite model with metadata.\n"
          ]
        },
        {
          "output_type": "stream",
          "name": "stdout",
          "text": [
            "INFO:tensorflow:Saving labels in /tmp/tmpmp2c0fqe/labels.txt\n"
          ]
        },
        {
          "output_type": "stream",
          "name": "stderr",
          "text": [
            "INFO:tensorflow:Saving labels in /tmp/tmpmp2c0fqe/labels.txt\n"
          ]
        },
        {
          "output_type": "stream",
          "name": "stdout",
          "text": [
            "INFO:tensorflow:TensorFlow Lite model exported successfully: ./mobilenet_v2.tflite\n"
          ]
        },
        {
          "output_type": "stream",
          "name": "stderr",
          "text": [
            "INFO:tensorflow:TensorFlow Lite model exported successfully: ./mobilenet_v2.tflite\n"
          ]
        }
      ]
    },
    {
      "cell_type": "code",
      "metadata": {
        "id": "JWJQ5TS7nvPl"
      },
      "source": [
        ""
      ],
      "execution_count": 16,
      "outputs": []
    },
    {
      "cell_type": "code",
      "metadata": {
        "id": "XUaZZDpSnvSE"
      },
      "source": [
        ""
      ],
      "execution_count": 16,
      "outputs": []
    },
    {
      "cell_type": "code",
      "metadata": {
        "id": "Ppw9xqvonvUr"
      },
      "source": [
        ""
      ],
      "execution_count": 16,
      "outputs": []
    },
    {
      "cell_type": "code",
      "metadata": {
        "id": "cqbPglMEnvXS"
      },
      "source": [
        ""
      ],
      "execution_count": 16,
      "outputs": []
    }
  ]
}